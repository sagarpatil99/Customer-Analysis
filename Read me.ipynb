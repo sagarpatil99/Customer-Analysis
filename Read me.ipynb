{
 "cells": [
  {
   "attachments": {},
   "cell_type": "markdown",
   "metadata": {},
   "source": [
    "\n",
    "##### 1) We imported the necessary libraries and tried to understand the data.\n",
    "##### 2) We did the data cleaning using Pandas; there we identified null values and removed them; we handled outliers and duplicates of the data.\n",
    "##### 3) In feature engineering, we created a new column of age, month_customer, totalspendings, age group, and children, and we have replaced the marital status.\n",
    "##### 4) We conducted exploratory data analysis (EDA) for marital status vs. average spending, average spending vs. number of children, age vs. spendings, income vs. spendings, income distribution of customers, product vs. average spendings, and age distribution of customers.\n",
    "##### 5) In feature transformation, from the customer data set, we selected the necessary columns to build a model, such as income, kidhome, teenhome, age, marital status, and education.\n",
    "##### 6) We created a pipeline to separate the variables based on measurements.\n",
    "##### 7) In the ML model, we performed K-Means clustering to get optimum clusters using the elbow method. We observed the elbow at K = 5, and the deviation score was 3415.7.\n",
    "##### 8) We tried to fit a multiclassification model to predict clusters for a particular customer with a model accuracy of 98.48% by considering a test data size of 30%."
   ]
  },
  {
   "cell_type": "code",
   "execution_count": null,
   "metadata": {},
   "outputs": [],
   "source": []
  }
 ],
 "metadata": {
  "language_info": {
   "name": "python"
  },
  "orig_nbformat": 4
 },
 "nbformat": 4,
 "nbformat_minor": 2
}
